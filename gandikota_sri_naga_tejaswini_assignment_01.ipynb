{
  "cells": [
    {
      "cell_type": "markdown",
      "metadata": {
        "id": "view-in-github",
        "colab_type": "text"
      },
      "source": [
        "<a href=\"https://colab.research.google.com/github/tejaswini-151999/SriNagTejaswiniGandikota_INFO5731_Fall2024/blob/main/gandikota_sri_naga_tejaswini_assignment_01.ipynb\" target=\"_parent\"><img src=\"https://colab.research.google.com/assets/colab-badge.svg\" alt=\"Open In Colab\"/></a>"
      ]
    },
    {
      "cell_type": "markdown",
      "metadata": {
        "id": "Ryk8D1Q4Wsrp"
      },
      "source": [
        "# **INFO5731 Assignment One**"
      ]
    },
    {
      "cell_type": "markdown",
      "source": [
        "This assignment includes range of programming tasks and data analysis exercises, aiming to enhance your Python skills and proficiency in string manipulation, numerical computations, and data science. Follow the instructions carefully and design well-structured Python programs to address each question.\n",
        "\n",
        "Late Submission will have a penalty of 10% reduction for each day after the deadline."
      ],
      "metadata": {
        "id": "qcP6re2g5A5r"
      }
    },
    {
      "cell_type": "markdown",
      "metadata": {
        "id": "JkzR8cFAyGik"
      },
      "source": [
        "# Question 1 (10 points).\n",
        "\n",
        "The formula that describes the volume V of a hemisphere with radius r is the following:\n",
        "\n",
        "$ V=\\frac{2}{3}\\ast\\ \\pi\\ast\\ r^3 $\n",
        "\n",
        "Write a program to calculate the value of V when r is in the range of even numbers from 1-20. Output the result in the following format:\n",
        "\n",
        "\tr\tV\n",
        "\t2\t…\n",
        "\t4\t…\n",
        "\t6\t…\n",
        "\t.\n",
        "\t.\n",
        "\t.\n",
        "\t20\t…\n"
      ]
    },
    {
      "cell_type": "code",
      "execution_count": null,
      "metadata": {
        "id": "jDyTKYs-yGit",
        "colab": {
          "base_uri": "https://localhost:8080/"
        },
        "outputId": "3e5d0b97-68e5-4aec-9111-de4c4d7e8958"
      },
      "outputs": [
        {
          "output_type": "stream",
          "name": "stdout",
          "text": [
            "Radius     Volume              \n",
            "==============================\n",
            "2          16.76               \n",
            "4          134.04              \n",
            "6          452.39              \n",
            "8          1072.33             \n",
            "10         2094.40             \n",
            "12         3619.11             \n",
            "14         5747.02             \n",
            "16         8578.64             \n",
            "18         12214.51            \n",
            "20         16755.16            \n"
          ]
        }
      ],
      "source": [
        "import math\n",
        "\n",
        "# Defining a function to compute the volume of a hemisphere\n",
        "def hemisphere_volume(radius):\n",
        "    \"\"\"Calculate the volume of a hemisphere given its radius.\"\"\"\n",
        "    return (2 / 3) * math.pi * (radius ** 3)\n",
        "\n",
        "# Generating a list of even numbers between 1 and 20\n",
        "even_nums = [number for number in range(1, 21) if number % 2 == 0]\n",
        "\n",
        "# Output header for clarity\n",
        "print(f\"{'Radius':<10} {'Volume':<20}\")\n",
        "print(\"=\" * 30)\n",
        "\n",
        "# Calculating and printing the volume for each even radius\n",
        "for radius in even_nums:\n",
        "    volume = hemisphere_volume(radius)\n",
        "    print(f\"{radius:<10} {volume:<20.2f}\")"
      ]
    },
    {
      "cell_type": "markdown",
      "metadata": {
        "id": "90_NR8c5XGWc"
      },
      "source": [
        "# Question 2 (20 points)\n",
        "\n",
        "(a) Write a Python program to generate a sequence of 12 random numbers falling within the range of 50 to 150.\n",
        "\n",
        "(b) Arrange the generated numbers in ascending order. Display the sorted list.\n",
        "\n",
        "(c) Extend the program to arrange the numbers in descending order as well. Present the sorted list accordingly.\n",
        "\n",
        "(d) Compute and output the average of the entire group of generated numbers.\n",
        "\n",
        "(e) Enhance the program to calculate and display the average of the first 6 numbers from both the ascending and descending sorted lists."
      ]
    },
    {
      "cell_type": "code",
      "execution_count": null,
      "metadata": {
        "id": "5QX6bJjGWXY9",
        "colab": {
          "base_uri": "https://localhost:8080/"
        },
        "outputId": "fc9077b5-b046-4465-b87d-703825b125c1"
      },
      "outputs": [
        {
          "output_type": "stream",
          "name": "stdout",
          "text": [
            "Asc Order: [53, 56, 68, 71, 74, 85, 105, 107, 118, 134, 140, 147]\n",
            "Desc Order: [147, 140, 134, 118, 107, 105, 85, 74, 71, 68, 56, 53]\n",
            "Avg of all numbers: 96.5\n",
            "Avg of first 6 asc num: 67.83333333333333\n",
            "Avg of first 6 desc num: 125.16666666666667\n"
          ]
        }
      ],
      "source": [
        "import random\n",
        "\n",
        "# Generating a sequence of 12 random numbers within the range of 50 to 150\n",
        "random_num = [random.randint(50, 150) for _ in range(12)]\n",
        "\n",
        "# Sorting the numbers in ascending order\n",
        "asc_num = sorted(random_num)\n",
        "print(\"Asc Order:\", asc_num)\n",
        "\n",
        "# Sorting the numbers in descending order\n",
        "desc_num = sorted(random_num, reverse=True)\n",
        "print(\"Desc Order:\", desc_num)\n",
        "\n",
        "# Computing the average of the entire group of generated numbers\n",
        "avg_all = sum(random_num) / len(random_num)\n",
        "print(\"Avg of all numbers:\", avg_all)\n",
        "\n",
        "# Calculate and display the average of the first 6 numbers from both sorted lists\n",
        "avg_first_6_asc = sum(asc_num[:6]) / 6\n",
        "avg_first_6_desc = sum(desc_num[:6]) / 6\n",
        "print(\"Avg of first 6 asc num:\", avg_first_6_asc)\n",
        "print(\"Avg of first 6 desc num:\", avg_first_6_desc)\n"
      ]
    },
    {
      "cell_type": "markdown",
      "metadata": {
        "id": "1F_PZdH9Sh49"
      },
      "source": [
        "# Question 3 (20 points).\n",
        "\n",
        "Create a Python program that encompasses various string manipulation task:\n",
        "\n",
        "(a) Prompt the user to input two sentences.\n",
        "\n",
        "(b) Transform each sentence into a list, where each element corresponds to a word in the sentence. For example, if the sentences are \"Hello, how are you doing today?\" and \"This is an example sentence for the program!\"\n",
        "\n",
        "The program should output:\n",
        "['Hello', ',', 'how', 'are', 'you', 'doing', 'today', '?', 'This', 'is', 'an', 'example', 'sentence', 'for', 'the', 'program', '!']\n",
        "\n",
        "(c) Compare the two sentences. Print out a list of words that occur in both sentences.\n",
        "\n",
        "(d) Remove any punctuation from the sentence and print the sanitized sentences. It should remove at least the following characters, but it can remove more: period(“.”), comma (“,”), semicolon (“;”), and colon (“:”).\n",
        "\n",
        "(e) Count the number of vowels in each of the sentences. Print out each vowel and the occurrences  in the each of the two sentences separately, such as:\n",
        "\n",
        "Sentence1: a:2, e:2, i:0, etc.\n",
        "Sentence2: a:1, e:2, i:2, etc.\n",
        "\n",
        "Design a well-structured Python program to execute these tasks efficiently."
      ]
    },
    {
      "cell_type": "code",
      "execution_count": null,
      "metadata": {
        "id": "Y0oOSlsOS0cq",
        "colab": {
          "base_uri": "https://localhost:8080/"
        },
        "outputId": "0fc399d0-84a0-41f1-fc2d-f1ccc3208373"
      },
      "outputs": [
        {
          "output_type": "stream",
          "name": "stdout",
          "text": [
            "1st sentence: tejaswini is in masters\n",
            "2nd sentence: her major is information science\n",
            "['tejaswini', 'is', 'in', 'masters', 'her', 'major', 'is', 'information', 'science']\n",
            "Common word: ['is']\n",
            "Sanitized Sentence 1: tejaswini is in masters\n",
            "Sanitized Sentence 2: her major is information science\n",
            "Vowel counts in Sentence 1: a:2, e:2, i:4, o:0, u:0\n",
            "Vowel counts in Sentence 2: a:2, e:3, i:4, o:3, u:0\n"
          ]
        }
      ],
      "source": [
        "import string\n",
        "\n",
        "def main():\n",
        "    # (a) Prompt the user to input two sentences\n",
        "    sentence1 = input(\"1st sentence: \")\n",
        "    sentence2 = input(\"2nd sentence: \")\n",
        "\n",
        "    # (b) Transform each sentence into a list of words\n",
        "    word1 = sentence1.split()\n",
        "    word2 = sentence2.split()\n",
        "    combined_word = word1 + word2\n",
        "    print(combined_word)\n",
        "\n",
        "    # (c) Compare the two sentences and print common words\n",
        "    common_word = set(word1) & set(word2)\n",
        "    print(\"Common word:\", list(common_word))\n",
        "\n",
        "    # (d) Remove punctuation and print sanitized sentences\n",
        "    translator = str.maketrans('', '', string.punctuation)\n",
        "    sanitized_sentence1 = sentence1.translate(translator)\n",
        "    sanitized_sentence2 = sentence2.translate(translator)\n",
        "    print(\"Sanitized Sentence 1:\", sanitized_sentence1)\n",
        "    print(\"Sanitized Sentence 2:\", sanitized_sentence2)\n",
        "\n",
        "    # (e) Count the number of vowels in each sentence\n",
        "    vowels = 'aeiou'\n",
        "    vowel_count1 = {v: sentence1.lower().count(v) for v in vowels}\n",
        "    vowel_count2 = {v: sentence2.lower().count(v) for v in vowels}\n",
        "\n",
        "    print(\"Vowel counts in Sentence 1:\", ', '.join(f\"{v}:{count}\" for v, count in vowel_count1.items()))\n",
        "    print(\"Vowel counts in Sentence 2:\", ', '.join(f\"{v}:{count}\" for v, count in vowel_count2.items()))\n",
        "\n",
        "if __name__ == \"__main__\":\n",
        "    main()\n",
        "\n",
        "\n"
      ]
    },
    {
      "cell_type": "markdown",
      "source": [
        "# Question 4 (20 Points)"
      ],
      "metadata": {
        "id": "OP4-5qxAtInv"
      }
    },
    {
      "cell_type": "markdown",
      "source": [
        "Design and implement a simple command-line calculator program. The program should handle both integers and floating-point numbers.\n",
        "\n",
        "(a) Write program that takes a mathematical expression as input and evaluates it. The program should support addition, subtraction, multiplication, and division.\n",
        "\n",
        "(b) Extend the calculator to handle parentheses in mathematical expressions. Implement the necessary logic to evaluate expressions with nested parentheses.\n",
        "\n",
        "(c) Enhance your calculator to include additional mathematical operations such as exponentiation, square root, and modulus.\n",
        "\n",
        "(d) Implement error handling in the calculator program. Handle cases such as division by zero and invalid input expressions. Provide meaningful error messages.\n",
        "\n",
        "(e) Implement a command to exit the calculator."
      ],
      "metadata": {
        "id": "uzN4_hDptK9U"
      }
    },
    {
      "cell_type": "code",
      "source": [
        "import math\n",
        "\n",
        "def evaluate_xprsn(xprsn):\n",
        "    try:\n",
        "        # Evaluate the xprsn\n",
        "        result = eval(xprsn)\n",
        "        return result\n",
        "    except ZeroDivisionError:\n",
        "        return \"Error: Division by 0.\"\n",
        "    except Exception as ex:\n",
        "        return f\"Error: {str(ex)}\"\n",
        "\n",
        "def calculator():\n",
        "    while True:\n",
        "        user_input = input(\"Enter a mathematical expression (or type 'exit' to quit): \")\n",
        "        if user_input.lower() == 'exit':\n",
        "            print(\"Exiting the calculator.\")\n",
        "            break\n",
        "        result = evaluate_xprsn(user_input)\n",
        "        print(f\"Result: {result}\")\n",
        "\n",
        "if __name__ == \"__main__\":\n",
        "    calculator()"
      ],
      "metadata": {
        "id": "8nQnVxjJuYtu",
        "colab": {
          "base_uri": "https://localhost:8080/"
        },
        "outputId": "e3b753b0-f279-43fa-b2bd-35dabbd622d1"
      },
      "execution_count": null,
      "outputs": [
        {
          "output_type": "stream",
          "name": "stdout",
          "text": [
            "Enter a mathematical expression (or type 'exit' to quit): 5+7\n",
            "Result: 12\n",
            "Enter a mathematical expression (or type 'exit' to quit): 9*8\n",
            "Result: 72\n",
            "Enter a mathematical expression (or type 'exit' to quit): exit\n",
            "Exiting the calculator.\n"
          ]
        }
      ]
    },
    {
      "cell_type": "markdown",
      "metadata": {
        "id": "z3tBE7E-Xn5X"
      },
      "source": [
        "# Question 5 (30 points).\n",
        "\n",
        "In the field of Data Science, data is often formatted as a comma-delimited (CSV) file, where each line in a file corresponds to a field's value. Refer to Chapter 9 (p. 106) for more information on comma-delimited files.\n",
        "\n",
        "To answer this question, you will need to download the file [Assignment1_denton_housing.csv](https://raw.githubusercontent.com/unt-iialab/info5731-spring2022/main/assignments/Assignment1_denton_housing.csv) included with this assignment. The file contains statistics about housing in the city of Denton from 2008 to 2014. Write a program to implement the following questions.\n",
        "\n",
        "(a) (5 pts) Calculate the difference in the number of Occupied Housing Units from year to year and print it. The difference must be calculated for the consecutive years such as 2008-2009, 2009-2010 etc. Finally, print the values in the ascending order.\n",
        "\n",
        "(b) (5 pts) For all the years, calculate the percentage of housing units which are vacant an occupied. Print the results in the following format:\n",
        "\n",
        "Year Vacant Housing Units Occupied Housing Units\n",
        "\n",
        "    2008  30%   70%                          \n",
        "\t2009 ----- -----\n",
        "\t2010 ----- -----\n",
        "    2011 ----- -----\n",
        "\t2012 ----- -----\n",
        "    2013 ----- -----\n",
        "\t2014 ----- -----\n",
        "  \n",
        "  \n",
        "\n",
        "(c) (10 pts) Calculate and print the valued and years in which the highest number of housing units were vacant and occupied. Print the results in the following format:  \n",
        "\n",
        "                              Year\tValue\n",
        "\tVacant Housing Units\t  -----   -----\n",
        "\tOccupied Housing Units\t-----   -----\n",
        "\n",
        "(d) (10 pts) Calculate the harmonic mean of the total housing units and print it out. You can find the information about harmonic mean here: https://ncalculators.com/statistics/harmonic-mean-calculator.htm"
      ]
    },
    {
      "cell_type": "code",
      "execution_count": null,
      "metadata": {
        "id": "lqGYuHBhcsRH",
        "colab": {
          "base_uri": "https://localhost:8080/"
        },
        "outputId": "9faf7008-0a69-4430-87b5-a47a8caf4605"
      },
      "outputs": [
        {
          "output_type": "stream",
          "name": "stdout",
          "text": [
            "a. Differences in Occupied Houses from year to year (Sorted in Ascending Order):\n",
            "[-795, -303, 1404, 1565, 2622, 5091]\n",
            "\n",
            "(b) Percentage of Housing Units:\n",
            "Year   Vacant (%)           Occupied (%)        \n",
            "2014   5.73                 94.27               \n",
            "2013   8.80                 91.20               \n",
            "2012   6.68                 93.32               \n",
            "2011   9.38                 90.62               \n",
            "2010   8.14                 91.86               \n",
            "2009   9.07                 90.93               \n",
            "2008   10.88                89.12               \n",
            "\n",
            "(c) Year and Values with the Highest Number of Housing Units:\n",
            "Highest Vacant Housing Units: Year 2008, Amount 4483\n",
            "Highest Occupied Houses: Year 2014.0, Amount 46295.0\n",
            "\n",
            "(d) Harmonic Mean of Total Houses: 44398.29\n"
          ]
        }
      ],
      "source": [
        "import pandas as pd\n",
        "from scipy.stats import hmean\n",
        "\n",
        "# Sample data representing housing statistics\n",
        "data = {\n",
        "    'year': [2014, 2014, 2014, 2013, 2013, 2013, 2012, 2012, 2012, 2011, 2011, 2011, 2010, 2010, 2010, 2009, 2009, 2009, 2008, 2008, 2008],\n",
        "    'category': [\n",
        "        'Total Houses', 'Vacant Houses', 'Occupied Houses',\n",
        "        'Total Houses', 'Vacant Houses', 'Occupied Houses',\n",
        "        'Total Houses', 'Vacant Houses', 'Occupied Houses',\n",
        "        'Total Houses', 'Vacant Houses', 'Occupied Houses',\n",
        "        'Total Houses', 'Vacant Houses', 'Occupied Houses',\n",
        "        'Total Houses', 'Vacant Houses', 'Occupied Houses',\n",
        "        'Total Houses', 'Vacant Houses', 'Occupied Houses'\n",
        "    ],\n",
        "    'amount': [\n",
        "        49109, 2814, 46295, 47888, 4215, 43673, 45121, 3013, 42108,\n",
        "        44917, 4213, 40704, 44642, 3635, 41007, 39499, 3583, 35916,\n",
        "        41194, 4483, 36711\n",
        "    ]\n",
        "}\n",
        "\n",
        "# Create a DataFrame from the sample data\n",
        "housing_df = pd.DataFrame(data)\n",
        "\n",
        "# Task (a): Calculate the difference in the number of Occupied Housing Units from year to year\n",
        "occupied_houses_df = housing_df[housing_df['category'] == 'Occupied Houses']\n",
        "occupied_houses_df = occupied_houses_df[['year', 'amount']].sort_values(by='year')\n",
        "\n",
        "# Compute the year-to-year differences\n",
        "occupied_houses_df['yearly_change'] = occupied_houses_df['amount'].diff()\n",
        "yearly_changes = occupied_houses_df['yearly_change'].dropna().astype(int)\n",
        "\n",
        "# Sort the differences in ascending order\n",
        "sorted_changes = yearly_changes.sort_values().tolist()\n",
        "\n",
        "print(\"a. Differences in Occupied Houses from year to year (Sorted in Ascending Order):\")\n",
        "print(sorted_changes)\n",
        "\n",
        "# Task (b): Calculate the percentage of vacant and occupied houses for each year\n",
        "vacant_houses_df = housing_df[housing_df['category'] == 'Vacant Houses']\n",
        "total_units_df = housing_df[housing_df['category'] == 'Total Houses']\n",
        "\n",
        "# Merge data to compute percentages\n",
        "merged_data_df = pd.merge(vacant_units_df, total_units_df, on='year', suffixes=('_vacant', '_total'))\n",
        "merged_data_df['vacant_percentage'] = (merged_data_df['amount_vacant'] / merged_data_df['amount_total']) * 100\n",
        "merged_data_df['occupied_percentage'] = 100 - merged_data_df['vacant_percentage']\n",
        "\n",
        "# Print the percentages\n",
        "print(\"\\n(b) Percentage of Housing Units:\")\n",
        "print(f\"{'Year':<6} {'Vacant (%)':<20} {'Occupied (%)':<20}\")\n",
        "for _, row in merged_data_df.iterrows():\n",
        "    print(f\"{row['year']:<6} {row['vacant_percentage']:<20.2f} {row['occupied_percentage']:<20.2f}\")\n",
        "\n",
        "# Task (c): Find and print the year and values with the highest number of vacant and occupied housing units\n",
        "max_vacant_houses = vacant_houses_df.loc[vacant_houses_df['amount'].idxmax()]\n",
        "max_occupied_houses = occupied_houses_df.loc[occupied_houses_df['amount'].idxmax()]\n",
        "\n",
        "print(\"\\n(c) Year and Values with the Highest Number of Housing Units:\")\n",
        "print(f\"Highest Vacant Housing Units: Year {max_vacant_houses['year']}, Amount {max_vacant_houses['amount']}\")\n",
        "print(f\"Highest Occupied Houses: Year {max_occupied_houses['year']}, Amount {max_occupied_houses['amount']}\")\n",
        "\n",
        "# Task (d): Compute and print the harmonic mean of the total houses\n",
        "total_houses_df = total_units_df[['year', 'amount']].sort_values(by='year')\n",
        "harmonic_mean_total_units = hmean(total_units_df['amount'])\n",
        "\n",
        "print(f\"\\n(d) Harmonic Mean of Total Houses: {harmonic_mean_total_units:.2f}\")"
      ]
    },
    {
      "cell_type": "markdown",
      "source": [
        "# Mandatory Question\n",
        "\n",
        "Provide your thoughts on the assignment. What did you find challenging, and what aspects did you enjoy? Your opinion on the provided time to complete the assignment. Share any suggestions for improvement. Your feedback will be valuable for enhancing the learning experience."
      ],
      "metadata": {
        "id": "q8BFCvWp32cf"
      }
    },
    {
      "cell_type": "code",
      "source": [
        "# Write your response below\n",
        "# Great"
      ],
      "metadata": {
        "id": "_e557s2w4BpK"
      },
      "execution_count": null,
      "outputs": []
    }
  ],
  "metadata": {
    "colab": {
      "provenance": [],
      "include_colab_link": true
    },
    "kernelspec": {
      "display_name": "Python 3 (ipykernel)",
      "language": "python",
      "name": "python3"
    },
    "language_info": {
      "codemirror_mode": {
        "name": "ipython",
        "version": 3
      },
      "file_extension": ".py",
      "mimetype": "text/x-python",
      "name": "python",
      "nbconvert_exporter": "python",
      "pygments_lexer": "ipython3",
      "version": "3.9.12"
    }
  },
  "nbformat": 4,
  "nbformat_minor": 0
}