{
  "cells": [
    {
      "cell_type": "markdown",
      "metadata": {
        "id": "view-in-github",
        "colab_type": "text"
      },
      "source": [
        "<a href=\"https://colab.research.google.com/github/tejaswini-151999/SriNagTejaswiniGandikota_INFO5731_Fall2024/blob/main/Gandikota_SriNagaTejaswini_Exercise_4.ipynb\" target=\"_parent\"><img src=\"https://colab.research.google.com/assets/colab-badge.svg\" alt=\"Open In Colab\"/></a>"
      ]
    },
    {
      "cell_type": "markdown",
      "metadata": {
        "id": "VdRwkJBn70nX"
      },
      "source": [
        "# **INFO5731 In-class Exercise 4**\n",
        "\n",
        "**This exercise will provide a valuable learning experience in working with text data and extracting features using various topic modeling algorithms. Key concepts such as Latent Dirichlet Allocation (LDA), Latent Semantic Analysis (LSA), lda2vec, and BERTopic.**"
      ]
    },
    {
      "cell_type": "markdown",
      "source": [
        "***Please use the text corpus you collected in your last in-class-exercise for this exercise. Perform the following tasks***.\n",
        "\n",
        "**Expectations**:\n",
        "*   Students are expected to complete the exercise during lecture period to meet the active participation criteria of the course.\n",
        "*   Use the provided .*ipynb* document to write your code & respond to the questions. Avoid generating a new file.\n",
        "*   Write complete answers and run all the cells before submission.\n",
        "*   Make sure the submission is \"clean\"; *i.e.*, no unnecessary code cells.\n",
        "*   Once finished, allow shared rights from top right corner (*see Canvas for details*).\n",
        "\n",
        "**Total points**: 40\n",
        "\n",
        "**Deadline**: This in-class exercise is due at the end of the day tomorrow, at 11:59 PM.\n",
        "\n",
        "**Late submissions will have a penalty of 10% of the marks for each day of late submission, and no requests will be answered. Manage your time accordingly.**\n"
      ],
      "metadata": {
        "id": "TU-pLW33lpcS"
      }
    },
    {
      "cell_type": "markdown",
      "metadata": {
        "id": "ARqm7u6B70ne"
      },
      "source": [
        "## Question 1 (10 Points)\n",
        "\n",
        "**Generate K topics by using LDA, the number of topics K should be decided by the coherence score, then summarize what are the topics.**\n",
        "\n",
        "You may refer the code here: https://www.machinelearningplus.com/nlp/topic-modeling-gensim-python/"
      ]
    },
    {
      "cell_type": "code",
      "source": [
        "# Write your code here\n",
        "!pip install gensim pyLDAvis\n",
        "\n",
        "import pandas as pd\n",
        "import numpy as np\n",
        "from gensim import corpora\n",
        "import pyLDAvis\n",
        "import pyLDAvis.gensim_models\n",
        "import nltk\n",
        "from nltk.corpus import stopwords\n",
        "from nltk.tokenize import word_tokenize\n",
        "from nltk.stem import WordNetLemmatizer\n",
        "import warnings\n",
        "\n",
        "warnings.filterwarnings(\"ignore\", category=DeprecationWarning)\n",
        "\n",
        "nltk.download('punkt')\n",
        "nltk.download('stopwords')\n",
        "nltk.download('wordnet')\n",
        "\n",
        "\n"
      ],
      "metadata": {
        "colab": {
          "base_uri": "https://localhost:8080/"
        },
        "id": "hprJ4pRsx9rW",
        "outputId": "f7fb1110-3793-488d-dea7-86ed766bb2f3"
      },
      "execution_count": null,
      "outputs": [
        {
          "output_type": "stream",
          "name": "stdout",
          "text": [
            "Requirement already satisfied: gensim in /usr/local/lib/python3.10/dist-packages (4.3.3)\n",
            "Collecting pyLDAvis\n",
            "  Downloading pyLDAvis-3.4.1-py3-none-any.whl.metadata (4.2 kB)\n",
            "Requirement already satisfied: numpy<2.0,>=1.18.5 in /usr/local/lib/python3.10/dist-packages (from gensim) (1.26.4)\n",
            "Requirement already satisfied: scipy<1.14.0,>=1.7.0 in /usr/local/lib/python3.10/dist-packages (from gensim) (1.13.1)\n",
            "Requirement already satisfied: smart-open>=1.8.1 in /usr/local/lib/python3.10/dist-packages (from gensim) (7.0.5)\n",
            "Requirement already satisfied: pandas>=2.0.0 in /usr/local/lib/python3.10/dist-packages (from pyLDAvis) (2.2.2)\n",
            "Requirement already satisfied: joblib>=1.2.0 in /usr/local/lib/python3.10/dist-packages (from pyLDAvis) (1.4.2)\n",
            "Requirement already satisfied: jinja2 in /usr/local/lib/python3.10/dist-packages (from pyLDAvis) (3.1.4)\n",
            "Requirement already satisfied: numexpr in /usr/local/lib/python3.10/dist-packages (from pyLDAvis) (2.10.1)\n",
            "Collecting funcy (from pyLDAvis)\n",
            "  Downloading funcy-2.0-py2.py3-none-any.whl.metadata (5.9 kB)\n",
            "Requirement already satisfied: scikit-learn>=1.0.0 in /usr/local/lib/python3.10/dist-packages (from pyLDAvis) (1.5.2)\n",
            "Requirement already satisfied: setuptools in /usr/local/lib/python3.10/dist-packages (from pyLDAvis) (75.1.0)\n",
            "Requirement already satisfied: python-dateutil>=2.8.2 in /usr/local/lib/python3.10/dist-packages (from pandas>=2.0.0->pyLDAvis) (2.8.2)\n",
            "Requirement already satisfied: pytz>=2020.1 in /usr/local/lib/python3.10/dist-packages (from pandas>=2.0.0->pyLDAvis) (2024.2)\n",
            "Requirement already satisfied: tzdata>=2022.7 in /usr/local/lib/python3.10/dist-packages (from pandas>=2.0.0->pyLDAvis) (2024.2)\n",
            "Requirement already satisfied: threadpoolctl>=3.1.0 in /usr/local/lib/python3.10/dist-packages (from scikit-learn>=1.0.0->pyLDAvis) (3.5.0)\n",
            "Requirement already satisfied: wrapt in /usr/local/lib/python3.10/dist-packages (from smart-open>=1.8.1->gensim) (1.16.0)\n",
            "Requirement already satisfied: MarkupSafe>=2.0 in /usr/local/lib/python3.10/dist-packages (from jinja2->pyLDAvis) (3.0.2)\n",
            "Requirement already satisfied: six>=1.5 in /usr/local/lib/python3.10/dist-packages (from python-dateutil>=2.8.2->pandas>=2.0.0->pyLDAvis) (1.16.0)\n",
            "Downloading pyLDAvis-3.4.1-py3-none-any.whl (2.6 MB)\n",
            "\u001b[2K   \u001b[90m━━━━━━━━━━━━━━━━━━━━━━━━━━━━━━━━━━━━━━━━\u001b[0m \u001b[32m2.6/2.6 MB\u001b[0m \u001b[31m18.8 MB/s\u001b[0m eta \u001b[36m0:00:00\u001b[0m\n",
            "\u001b[?25hDownloading funcy-2.0-py2.py3-none-any.whl (30 kB)\n",
            "Installing collected packages: funcy, pyLDAvis\n",
            "Successfully installed funcy-2.0 pyLDAvis-3.4.1\n"
          ]
        },
        {
          "output_type": "stream",
          "name": "stderr",
          "text": [
            "[nltk_data] Downloading package punkt to /root/nltk_data...\n",
            "[nltk_data]   Unzipping tokenizers/punkt.zip.\n",
            "[nltk_data] Downloading package stopwords to /root/nltk_data...\n",
            "[nltk_data]   Unzipping corpora/stopwords.zip.\n",
            "[nltk_data] Downloading package wordnet to /root/nltk_data...\n"
          ]
        },
        {
          "output_type": "execute_result",
          "data": {
            "text/plain": [
              "True"
            ]
          },
          "metadata": {},
          "execution_count": 1
        }
      ]
    },
    {
      "cell_type": "code",
      "source": [
        "# Sample text data\n",
        "documents = [\n",
        "    \"This painting is wonderful!!\",\n",
        "    \"The bag I have ordered is not as shown in the image.\",\n",
        "    \"The shoes quality is amazing!!\",\n",
        "    \"The taste of the food is unbelievable.\",\n",
        "    \"The book is fantastic, it addresses all the topics that are important.\"\n",
        "]\n",
        "\n",
        "# Preprocessing\n",
        "stop_words = set(stopwords.words('english'))\n",
        "lemmatizer = WordNetLemmatizer()\n",
        "\n",
        "def preprocess(text):\n",
        "    tokens = word_tokenize(text.lower())\n",
        "    tokens = [lemmatizer.lemmatize(word) for word in tokens if word.isalnum() and word not in stop_words]\n",
        "    return tokens\n",
        "\n",
        "data_lemmatized = [preprocess(doc) for doc in documents]\n",
        "\n",
        "# Create Dictionary and Corpus\n",
        "id2word = corpora.Dictionary(data_lemmatized)\n",
        "corpus = [id2word.doc2bow(text) for text in data_lemmatized]\n",
        "\n",
        "# Output the processed data\n",
        "print(\"Lemmatized Data:\")\n",
        "print(data_lemmatized)\n",
        "\n",
        "print(\"\\nDictionary:\")\n",
        "print(id2word.token2id)\n",
        "\n",
        "print(\"\\nCorpus (Word ID and Frequency):\")\n",
        "for doc in corpus:\n",
        "    print(doc)\n"
      ],
      "metadata": {
        "colab": {
          "base_uri": "https://localhost:8080/"
        },
        "id": "EMCgJPRMx9Iw",
        "outputId": "9a3893f6-3add-4b54-d145-2e9b1b5e56a2"
      },
      "execution_count": null,
      "outputs": [
        {
          "output_type": "stream",
          "name": "stdout",
          "text": [
            "Lemmatized Data:\n",
            "[['painting', 'wonderful'], ['bag', 'ordered', 'shown', 'image'], ['shoe', 'quality', 'amazing'], ['taste', 'food', 'unbelievable'], ['book', 'fantastic', 'address', 'topic', 'important']]\n",
            "\n",
            "Dictionary:\n",
            "{'painting': 0, 'wonderful': 1, 'bag': 2, 'image': 3, 'ordered': 4, 'shown': 5, 'amazing': 6, 'quality': 7, 'shoe': 8, 'food': 9, 'taste': 10, 'unbelievable': 11, 'address': 12, 'book': 13, 'fantastic': 14, 'important': 15, 'topic': 16}\n",
            "\n",
            "Corpus (Word ID and Frequency):\n",
            "[(0, 1), (1, 1)]\n",
            "[(2, 1), (3, 1), (4, 1), (5, 1)]\n",
            "[(6, 1), (7, 1), (8, 1)]\n",
            "[(9, 1), (10, 1), (11, 1)]\n",
            "[(12, 1), (13, 1), (14, 1), (15, 1), (16, 1)]\n"
          ]
        }
      ]
    },
    {
      "cell_type": "code",
      "source": [
        "from gensim.models import LdaModel\n",
        "\n",
        "# Create the LDA model\n",
        "num_topics = 2  # You can adjust the number of topics here\n",
        "lda_model = LdaModel(corpus, num_topics=num_topics, id2word=id2word, passes=15)\n",
        "\n",
        "# Display the topics\n",
        "topics = lda_model.print_topics(num_words=3)\n",
        "for topic in topics:\n",
        "    print(topic)\n"
      ],
      "metadata": {
        "colab": {
          "base_uri": "https://localhost:8080/"
        },
        "id": "azOtjt-Ix89S",
        "outputId": "db185cbd-aa02-4048-8901-7c04e6d3c98b"
      },
      "execution_count": null,
      "outputs": [
        {
          "output_type": "stream",
          "name": "stdout",
          "text": [
            "(0, '0.096*\"ordered\" + 0.096*\"image\" + 0.096*\"shown\"')\n",
            "(1, '0.081*\"fantastic\" + 0.081*\"topic\" + 0.081*\"book\"')\n"
          ]
        }
      ]
    },
    {
      "cell_type": "code",
      "source": [
        "from gensim.models.coherencemodel import CoherenceModel\n",
        "\n",
        "# Perplexity\n",
        "perplexity = lda_model.log_perplexity(corpus)\n",
        "print(f'Perplexity: {perplexity}')\n",
        "\n",
        "# Coherence Score\n",
        "coherence_model_lda = CoherenceModel(model=lda_model, texts=data_lemmatized, dictionary=id2word, coherence='c_v')\n",
        "coherence_lda = coherence_model_lda.get_coherence()\n",
        "print(f'Coherence Score: {coherence_lda}')\n"
      ],
      "metadata": {
        "colab": {
          "base_uri": "https://localhost:8080/"
        },
        "id": "WBfztJOcx8xJ",
        "outputId": "0bb481cb-81f6-45be-d84c-1c2b0ce34f87"
      },
      "execution_count": null,
      "outputs": [
        {
          "output_type": "stream",
          "name": "stdout",
          "text": [
            "Perplexity: -3.5331512444159565\n",
            "Coherence Score: 0.5342804078731163\n"
          ]
        }
      ]
    },
    {
      "cell_type": "code",
      "execution_count": null,
      "metadata": {
        "id": "VAZj4PHB70nf",
        "colab": {
          "base_uri": "https://localhost:8080/",
          "height": 881
        },
        "outputId": "0f45fee6-521a-4598-e632-d0cd14006edc"
      },
      "outputs": [
        {
          "output_type": "execute_result",
          "data": {
            "text/plain": [
              "<IPython.core.display.HTML object>"
            ],
            "text/html": [
              "\n",
              "<link rel=\"stylesheet\" type=\"text/css\" href=\"https://cdn.jsdelivr.net/gh/bmabey/pyLDAvis@3.4.0/pyLDAvis/js/ldavis.v1.0.0.css\">\n",
              "\n",
              "\n",
              "<div id=\"ldavis_el4611335433566013286383282390\" style=\"background-color:white;\"></div>\n",
              "<script type=\"text/javascript\">\n",
              "\n",
              "var ldavis_el4611335433566013286383282390_data = {\"mdsDat\": {\"x\": [0.06167667833272267, -0.06167667833272267], \"y\": [0.0, 0.0], \"topics\": [1, 2], \"cluster\": [1, 1], \"Freq\": [56.567674498087364, 43.432325501912636]}, \"tinfo\": {\"Term\": [\"ordered\", \"image\", \"shown\", \"bag\", \"unbelievable\", \"taste\", \"food\", \"fantastic\", \"topic\", \"book\", \"address\", \"important\", \"amazing\", \"quality\", \"shoe\", \"painting\", \"wonderful\", \"fantastic\", \"topic\", \"book\", \"address\", \"important\", \"amazing\", \"quality\", \"shoe\", \"painting\", \"wonderful\", \"food\", \"taste\", \"unbelievable\", \"bag\", \"shown\", \"image\", \"ordered\", \"ordered\", \"image\", \"shown\", \"bag\", \"unbelievable\", \"taste\", \"food\", \"wonderful\", \"painting\", \"shoe\", \"quality\", \"amazing\", \"important\", \"address\", \"book\", \"topic\", \"fantastic\"], \"Freq\": [0.0, 0.0, 0.0, 0.0, 0.0, 0.0, 0.0, 1.0, 1.0, 1.0, 1.0, 1.0, 1.0, 1.0, 1.0, 1.0, 1.0, 0.7785131486005397, 0.7784349083917186, 0.7784188591181143, 0.7783831064952189, 0.7783625433634134, 0.7769355909834861, 0.7767917207093902, 0.7767870635541032, 0.7745345766631535, 0.7744290383594965, 0.26425030472772754, 0.2642436235011043, 0.2642273234575999, 0.26306833662803053, 0.26304669876808184, 0.2630463942617746, 0.26303057784593464, 0.7099831719028328, 0.709968703923848, 0.7099684838785403, 0.7099487348121695, 0.7088930674482256, 0.7088782143899522, 0.708872163143989, 0.24418466309253717, 0.24408861331570308, 0.2420370483945336, 0.24203281252235936, 0.24190172053026565, 0.24060202292002392, 0.2405833465745284, 0.24055075236331752, 0.24053620186734237, 0.24046493469329394], \"Total\": [0.0, 0.0, 0.0, 0.0, 0.0, 0.0, 0.0, 1.0, 1.0, 1.0, 1.0, 1.0, 1.0, 1.0, 1.0, 1.0, 1.0, 1.0189780832938335, 1.018971110259061, 1.0189696114814317, 1.0189664530697473, 1.0189645662834372, 1.0188373115137517, 1.0188245332317496, 1.0188241119486368, 1.0186231899788565, 1.0186137014520336, 0.9731224678717165, 0.9731218378910566, 0.9731203909058255, 0.9730170714402, 0.9730151826466221, 0.9730150981856227, 0.9730137497487674, 0.9730137497487674, 0.9730150981856227, 0.9730151826466221, 0.9730170714402, 0.9731203909058255, 0.9731218378910566, 0.9731224678717165, 1.0186137014520336, 1.0186231899788565, 1.0188241119486368, 1.0188245332317496, 1.0188373115137517, 1.0189645662834372, 1.0189664530697473, 1.0189696114814317, 1.018971110259061, 1.0189780832938335], \"Category\": [\"Default\", \"Default\", \"Default\", \"Default\", \"Default\", \"Default\", \"Default\", \"Default\", \"Default\", \"Default\", \"Default\", \"Default\", \"Default\", \"Default\", \"Default\", \"Default\", \"Default\", \"Topic1\", \"Topic1\", \"Topic1\", \"Topic1\", \"Topic1\", \"Topic1\", \"Topic1\", \"Topic1\", \"Topic1\", \"Topic1\", \"Topic1\", \"Topic1\", \"Topic1\", \"Topic1\", \"Topic1\", \"Topic1\", \"Topic1\", \"Topic2\", \"Topic2\", \"Topic2\", \"Topic2\", \"Topic2\", \"Topic2\", \"Topic2\", \"Topic2\", \"Topic2\", \"Topic2\", \"Topic2\", \"Topic2\", \"Topic2\", \"Topic2\", \"Topic2\", \"Topic2\", \"Topic2\"], \"logprob\": [17.0, 16.0, 15.0, 14.0, 13.0, 12.0, 11.0, 10.0, 9.0, 8.0, 7.0, 6.0, 5.0, 4.0, 3.0, 2.0, 1.0, -2.5139, -2.514, -2.514, -2.514, -2.514, -2.5159, -2.5161, -2.5161, -2.519, -2.5191, -3.5943, -3.5944, -3.5944, -3.5988, -3.5989, -3.5989, -3.599, -2.3418, -2.3418, -2.3418, -2.3418, -2.3433, -2.3433, -2.3433, -3.4091, -3.4095, -3.4179, -3.4179, -3.4185, -3.4239, -3.4239, -3.4241, -3.4241, -3.4244], \"loglift\": [17.0, 16.0, 15.0, 14.0, 13.0, 12.0, 11.0, 10.0, 9.0, 8.0, 7.0, 6.0, 5.0, 4.0, 3.0, 2.0, 1.0, 0.3006, 0.3005, 0.3004, 0.3004, 0.3004, 0.2987, 0.2985, 0.2985, 0.2958, 0.2957, -0.7339, -0.7339, -0.734, -0.7383, -0.7383, -0.7383, -0.7384, 0.5188, 0.5188, 0.5188, 0.5188, 0.5172, 0.5171, 0.5171, -0.5943, -0.5947, -0.6033, -0.6034, -0.6039, -0.6094, -0.6095, -0.6097, -0.6097, -0.61]}, \"token.table\": {\"Topic\": [1, 1, 2, 1, 1, 2, 2, 1, 2, 1, 1, 1, 2, 2, 1, 2, 1], \"Freq\": [0.9813865775339229, 0.9815109720650456, 1.0277311974802883, 0.9813835356151076, 0.981375376364831, 1.0276198865154829, 1.027733281697988, 0.9813883947381915, 1.0277347059671051, 0.9817172923588722, 0.9815232823535988, 0.9815236882128426, 1.027733192487273, 1.0276205517771482, 0.9813820921240467, 1.0276220798016098, 0.9817264371905662], \"Term\": [\"address\", \"amazing\", \"bag\", \"book\", \"fantastic\", \"food\", \"image\", \"important\", \"ordered\", \"painting\", \"quality\", \"shoe\", \"shown\", \"taste\", \"topic\", \"unbelievable\", \"wonderful\"]}, \"R\": 17, \"lambda.step\": 0.01, \"plot.opts\": {\"xlab\": \"PC1\", \"ylab\": \"PC2\"}, \"topic.order\": [2, 1]};\n",
              "\n",
              "function LDAvis_load_lib(url, callback){\n",
              "  var s = document.createElement('script');\n",
              "  s.src = url;\n",
              "  s.async = true;\n",
              "  s.onreadystatechange = s.onload = callback;\n",
              "  s.onerror = function(){console.warn(\"failed to load library \" + url);};\n",
              "  document.getElementsByTagName(\"head\")[0].appendChild(s);\n",
              "}\n",
              "\n",
              "if(typeof(LDAvis) !== \"undefined\"){\n",
              "   // already loaded: just create the visualization\n",
              "   !function(LDAvis){\n",
              "       new LDAvis(\"#\" + \"ldavis_el4611335433566013286383282390\", ldavis_el4611335433566013286383282390_data);\n",
              "   }(LDAvis);\n",
              "}else if(typeof define === \"function\" && define.amd){\n",
              "   // require.js is available: use it to load d3/LDAvis\n",
              "   require.config({paths: {d3: \"https://d3js.org/d3.v5\"}});\n",
              "   require([\"d3\"], function(d3){\n",
              "      window.d3 = d3;\n",
              "      LDAvis_load_lib(\"https://cdn.jsdelivr.net/gh/bmabey/pyLDAvis@3.4.0/pyLDAvis/js/ldavis.v3.0.0.js\", function(){\n",
              "        new LDAvis(\"#\" + \"ldavis_el4611335433566013286383282390\", ldavis_el4611335433566013286383282390_data);\n",
              "      });\n",
              "    });\n",
              "}else{\n",
              "    // require.js not available: dynamically load d3 & LDAvis\n",
              "    LDAvis_load_lib(\"https://d3js.org/d3.v5.js\", function(){\n",
              "         LDAvis_load_lib(\"https://cdn.jsdelivr.net/gh/bmabey/pyLDAvis@3.4.0/pyLDAvis/js/ldavis.v3.0.0.js\", function(){\n",
              "                 new LDAvis(\"#\" + \"ldavis_el4611335433566013286383282390\", ldavis_el4611335433566013286383282390_data);\n",
              "            })\n",
              "         });\n",
              "}\n",
              "</script>"
            ]
          },
          "metadata": {},
          "execution_count": 5
        }
      ],
      "source": [
        "# Write your code here\n",
        "# Prepare the visualization\n",
        "vis = pyLDAvis.gensim_models.prepare(lda_model, corpus, id2word)\n",
        "\n",
        "# Visualize the topics\n",
        "pyLDAvis.display(vis)\n"
      ]
    },
    {
      "cell_type": "markdown",
      "metadata": {
        "id": "dEUjBE6C70nf"
      },
      "source": [
        "## Question 2 (10 Points)\n",
        "\n",
        "**Generate K topics by using LSA, the number of topics K should be decided by the coherence score, then summarize what are the topics.**\n",
        "\n",
        "You may refer the code here: https://www.datacamp.com/community/tutorials/discovering-hidden-topics-python"
      ]
    },
    {
      "cell_type": "code",
      "execution_count": null,
      "metadata": {
        "id": "EoQX5s4O70nf",
        "colab": {
          "base_uri": "https://localhost:8080/"
        },
        "outputId": "c2420676-0df5-42bb-968a-215ce5b85e99"
      },
      "outputs": [
        {
          "output_type": "stream",
          "name": "stdout",
          "text": [
            "Requirement already satisfied: gensim in /usr/local/lib/python3.10/dist-packages (4.3.3)\n",
            "Requirement already satisfied: numpy<2.0,>=1.18.5 in /usr/local/lib/python3.10/dist-packages (from gensim) (1.26.4)\n",
            "Requirement already satisfied: scipy<1.14.0,>=1.7.0 in /usr/local/lib/python3.10/dist-packages (from gensim) (1.13.1)\n",
            "Requirement already satisfied: smart-open>=1.8.1 in /usr/local/lib/python3.10/dist-packages (from gensim) (7.0.5)\n",
            "Requirement already satisfied: wrapt in /usr/local/lib/python3.10/dist-packages (from smart-open>=1.8.1->gensim) (1.16.0)\n",
            "Requirement already satisfied: pyLDAvis in /usr/local/lib/python3.10/dist-packages (3.4.1)\n",
            "Requirement already satisfied: numpy>=1.24.2 in /usr/local/lib/python3.10/dist-packages (from pyLDAvis) (1.26.4)\n",
            "Requirement already satisfied: scipy in /usr/local/lib/python3.10/dist-packages (from pyLDAvis) (1.13.1)\n",
            "Requirement already satisfied: pandas>=2.0.0 in /usr/local/lib/python3.10/dist-packages (from pyLDAvis) (2.2.2)\n",
            "Requirement already satisfied: joblib>=1.2.0 in /usr/local/lib/python3.10/dist-packages (from pyLDAvis) (1.4.2)\n",
            "Requirement already satisfied: jinja2 in /usr/local/lib/python3.10/dist-packages (from pyLDAvis) (3.1.4)\n",
            "Requirement already satisfied: numexpr in /usr/local/lib/python3.10/dist-packages (from pyLDAvis) (2.10.1)\n",
            "Requirement already satisfied: funcy in /usr/local/lib/python3.10/dist-packages (from pyLDAvis) (2.0)\n",
            "Requirement already satisfied: scikit-learn>=1.0.0 in /usr/local/lib/python3.10/dist-packages (from pyLDAvis) (1.5.2)\n",
            "Requirement already satisfied: gensim in /usr/local/lib/python3.10/dist-packages (from pyLDAvis) (4.3.3)\n",
            "Requirement already satisfied: setuptools in /usr/local/lib/python3.10/dist-packages (from pyLDAvis) (75.1.0)\n",
            "Requirement already satisfied: python-dateutil>=2.8.2 in /usr/local/lib/python3.10/dist-packages (from pandas>=2.0.0->pyLDAvis) (2.8.2)\n",
            "Requirement already satisfied: pytz>=2020.1 in /usr/local/lib/python3.10/dist-packages (from pandas>=2.0.0->pyLDAvis) (2024.2)\n",
            "Requirement already satisfied: tzdata>=2022.7 in /usr/local/lib/python3.10/dist-packages (from pandas>=2.0.0->pyLDAvis) (2024.2)\n",
            "Requirement already satisfied: threadpoolctl>=3.1.0 in /usr/local/lib/python3.10/dist-packages (from scikit-learn>=1.0.0->pyLDAvis) (3.5.0)\n",
            "Requirement already satisfied: smart-open>=1.8.1 in /usr/local/lib/python3.10/dist-packages (from gensim->pyLDAvis) (7.0.5)\n",
            "Requirement already satisfied: MarkupSafe>=2.0 in /usr/local/lib/python3.10/dist-packages (from jinja2->pyLDAvis) (3.0.2)\n",
            "Requirement already satisfied: six>=1.5 in /usr/local/lib/python3.10/dist-packages (from python-dateutil>=2.8.2->pandas>=2.0.0->pyLDAvis) (1.16.0)\n",
            "Requirement already satisfied: wrapt in /usr/local/lib/python3.10/dist-packages (from smart-open>=1.8.1->gensim->pyLDAvis) (1.16.0)\n"
          ]
        }
      ],
      "source": [
        "# Write your code here\n",
        "# Code Cell 1: Install Required Libraries\n",
        "!pip install gensim\n",
        "!pip install pyLDAvis\n"
      ]
    },
    {
      "cell_type": "code",
      "source": [
        "# Code Cell 2: Import Required Libraries\n",
        "import pandas as pd\n",
        "import numpy as np\n",
        "import gensim\n",
        "import gensim.corpora as corpora\n",
        "from gensim.models import LsiModel\n",
        "from gensim.models.coherencemodel import CoherenceModel\n",
        "import matplotlib.pyplot as plt\n",
        "from collections import Counter\n",
        "import warnings\n",
        "\n",
        "warnings.filterwarnings(\"ignore\")\n"
      ],
      "metadata": {
        "id": "P4nfnm0Tz5qB"
      },
      "execution_count": null,
      "outputs": []
    },
    {
      "cell_type": "code",
      "source": [
        "# Code Cell 3: Prepare Your Text Data\n",
        "# Sample text corpus\n",
        "documents = [\n",
        "    \"This painting is wonderful!!\",\n",
        "    \"The bag I have ordered is not as shown in the image.\",\n",
        "    \"The shoes quality is amazing!!\",\n",
        "    \"The taste of the food is unbelievable.\",\n",
        "    \"The book is fantastic, it addresses all the topics that are important.\"\n",
        "]\n",
        "\n",
        "# Preprocess the text data\n",
        "def preprocess(text):\n",
        "    return gensim.utils.simple_preprocess(text)\n",
        "\n",
        "processed_docs = [preprocess(doc) for doc in documents]\n",
        "\n",
        "# Create Dictionary and Corpus\n",
        "dictionary = corpora.Dictionary(processed_docs)\n",
        "corpus = [dictionary.doc2bow(doc) for doc in processed_docs]\n"
      ],
      "metadata": {
        "id": "61s1_tEez5oJ"
      },
      "execution_count": null,
      "outputs": []
    },
    {
      "cell_type": "code",
      "source": [
        "# Code Cell 4: Generate LSA Models and Coherence Scores\n",
        "def compute_coherence_values(dictionary, corpus, processed_docs, limit, start=2, step=1):\n",
        "    coherence_values = []\n",
        "    model_list = []\n",
        "    for num_topics in range(start, limit, step):\n",
        "        model = LsiModel(corpus, num_topics=num_topics, id2word=dictionary)\n",
        "        model_list.append(model)\n",
        "        coherencemodel = CoherenceModel(model=model, texts=processed_docs, dictionary=dictionary, coherence='c_v')\n",
        "        coherence_values.append(coherencemodel.get_coherence())\n",
        "    return coherence_values, model_list\n",
        "\n",
        "limit = 8  # Max number of topics\n",
        "coherence_values, model_list = compute_coherence_values(dictionary, corpus, processed_docs, limit)\n"
      ],
      "metadata": {
        "id": "CtMCl9Q9z5Xy"
      },
      "execution_count": null,
      "outputs": []
    },
    {
      "cell_type": "code",
      "source": [
        "# Code Cell 5: Plot Coherence Scores\n",
        "x = range(2, limit, 1)\n",
        "plt.plot(x, coherence_values)\n",
        "plt.xlabel(\"Number of Topics\")\n",
        "plt.ylabel(\"Coherence Score\")\n",
        "plt.title(\"Coherence Scores for Various Number of Topics\")\n",
        "plt.show()\n"
      ],
      "metadata": {
        "colab": {
          "base_uri": "https://localhost:8080/",
          "height": 472
        },
        "id": "_LmPG6BZz5uO",
        "outputId": "c3c8cfd3-6547-4e41-ed89-d39a812e36d4"
      },
      "execution_count": null,
      "outputs": [
        {
          "output_type": "display_data",
          "data": {
            "text/plain": [
              "<Figure size 640x480 with 1 Axes>"
            ],
            "image/png": "[encoded data removed]"
          },
          "metadata": {}
        }
      ]
    },
    {
      "cell_type": "code",
      "source": [
        "# Code Cell 6: Get the Best Model and Coherence Score\n",
        "if coherence_values:\n",
        "    best_model_index = coherence_values.index(max(coherence_values))\n",
        "    best_model = model_list[best_model_index]\n",
        "    best_coherence = coherence_values[best_model_index]\n",
        "\n",
        "    # Print the topics in the best model\n",
        "    print(\"\\nTopics in LSA model:\")\n",
        "    for topic in best_model.print_topics(num_words=5):\n",
        "        print(topic)\n",
        "\n",
        "    print(f\"\\nBest Coherence Score: {best_coherence:.4f}\")\n",
        "else:\n",
        "    print(\"No coherence values calculated.\")\n"
      ],
      "metadata": {
        "colab": {
          "base_uri": "https://localhost:8080/"
        },
        "id": "8pA3po130XZ8",
        "outputId": "1c8630e4-2b55-4305-ca03-b15a6dad665f"
      },
      "execution_count": null,
      "outputs": [
        {
          "output_type": "stream",
          "name": "stdout",
          "text": [
            "\n",
            "Topics in LSA model:\n",
            "(0, '-0.729*\"the\" + -0.412*\"is\" + -0.126*\"all\" + -0.126*\"book\" + -0.126*\"are\"')\n",
            "(1, '0.247*\"all\" + 0.247*\"are\" + 0.247*\"fantastic\" + 0.247*\"book\" + 0.247*\"addresses\"')\n",
            "\n",
            "Best Coherence Score: 0.4564\n"
          ]
        }
      ]
    },
    {
      "cell_type": "markdown",
      "metadata": {
        "id": "7oSK4soH70nf"
      },
      "source": [
        "## Question 3 (10 points):\n",
        "**Generate K topics by using lda2vec, the number of topics K should be decided by the coherence score, then summarize what are the topics.**\n",
        "\n",
        "You may refer the code here: https://nbviewer.org/github/cemoody/lda2vec/blob/master/examples/twenty_newsgroups/lda2vec/lda2vec.ipynb"
      ]
    },
    {
      "cell_type": "code",
      "execution_count": null,
      "metadata": {
        "id": "2CRuXfV570ng"
      },
      "outputs": [],
      "source": [
        "# Write your code here\n"
      ]
    },
    {
      "cell_type": "markdown",
      "metadata": {
        "id": "7nZGAOwl70ng"
      },
      "source": [
        "## Question 4 (10 points):\n",
        "**Generate K topics by using BERTopic, the number of topics K should be decided by the coherence score, then summarize what are the topics.**\n",
        "\n",
        "You may refer the code here: https://colab.research.google.com/drive/1FieRA9fLdkQEGDIMYl0I3MCjSUKVF8C-?usp=sharing"
      ]
    },
    {
      "cell_type": "code",
      "execution_count": 43,
      "metadata": {
        "id": "b4HoWK-i70ng",
        "colab": {
          "base_uri": "https://localhost:8080/"
        },
        "outputId": "bbd424d2-17f4-4aae-c862-a1468607b300"
      },
      "outputs": [
        {
          "output_type": "stream",
          "name": "stderr",
          "text": [
            "/usr/local/lib/python3.10/dist-packages/ipykernel/ipkernel.py:283: DeprecationWarning: `should_run_async` will not call `transform_cell` automatically in the future. Please pass the result to `transformed_cell` argument and any exception that happen during thetransform in `preprocessing_exc_tuple` in IPython 7.17 and above.\n",
            "  and should_run_async(code)\n"
          ]
        },
        {
          "output_type": "stream",
          "name": "stdout",
          "text": [
            "Requirement already satisfied: scikit-learn in /usr/local/lib/python3.10/dist-packages (1.5.2)\n",
            "Requirement already satisfied: numpy>=1.19.5 in /usr/local/lib/python3.10/dist-packages (from scikit-learn) (1.26.4)\n",
            "Requirement already satisfied: scipy>=1.6.0 in /usr/local/lib/python3.10/dist-packages (from scikit-learn) (1.13.1)\n",
            "Requirement already satisfied: joblib>=1.2.0 in /usr/local/lib/python3.10/dist-packages (from scikit-learn) (1.4.2)\n",
            "Requirement already satisfied: threadpoolctl>=3.1.0 in /usr/local/lib/python3.10/dist-packages (from scikit-learn) (3.5.0)\n",
            "Requirement already satisfied: gensim in /usr/local/lib/python3.10/dist-packages (4.3.3)\n",
            "Requirement already satisfied: numpy<2.0,>=1.18.5 in /usr/local/lib/python3.10/dist-packages (from gensim) (1.26.4)\n",
            "Requirement already satisfied: scipy<1.14.0,>=1.7.0 in /usr/local/lib/python3.10/dist-packages (from gensim) (1.13.1)\n",
            "Requirement already satisfied: smart-open>=1.8.1 in /usr/local/lib/python3.10/dist-packages (from gensim) (7.0.5)\n",
            "Requirement already satisfied: wrapt in /usr/local/lib/python3.10/dist-packages (from smart-open>=1.8.1->gensim) (1.16.0)\n",
            "Requirement already satisfied: matplotlib in /usr/local/lib/python3.10/dist-packages (3.8.0)\n",
            "Requirement already satisfied: contourpy>=1.0.1 in /usr/local/lib/python3.10/dist-packages (from matplotlib) (1.3.0)\n",
            "Requirement already satisfied: cycler>=0.10 in /usr/local/lib/python3.10/dist-packages (from matplotlib) (0.12.1)\n",
            "Requirement already satisfied: fonttools>=4.22.0 in /usr/local/lib/python3.10/dist-packages (from matplotlib) (4.54.1)\n",
            "Requirement already satisfied: kiwisolver>=1.0.1 in /usr/local/lib/python3.10/dist-packages (from matplotlib) (1.4.7)\n",
            "Requirement already satisfied: numpy<2,>=1.21 in /usr/local/lib/python3.10/dist-packages (from matplotlib) (1.26.4)\n",
            "Requirement already satisfied: packaging>=20.0 in /usr/local/lib/python3.10/dist-packages (from matplotlib) (24.1)\n",
            "Requirement already satisfied: pillow>=6.2.0 in /usr/local/lib/python3.10/dist-packages (from matplotlib) (10.4.0)\n",
            "Requirement already satisfied: pyparsing>=2.3.1 in /usr/local/lib/python3.10/dist-packages (from matplotlib) (3.2.0)\n",
            "Requirement already satisfied: python-dateutil>=2.7 in /usr/local/lib/python3.10/dist-packages (from matplotlib) (2.8.2)\n",
            "Requirement already satisfied: six>=1.5 in /usr/local/lib/python3.10/dist-packages (from python-dateutil>=2.7->matplotlib) (1.16.0)\n"
          ]
        }
      ],
      "source": [
        "!pip install scikit-learn\n",
        "!pip install gensim\n",
        "!pip install matplotlib\n"
      ]
    },
    {
      "cell_type": "code",
      "source": [
        "import warnings\n",
        "warnings.filterwarnings('ignore')\n",
        "\n",
        "from sklearn.feature_extraction.text import CountVectorizer\n",
        "from sklearn.decomposition import LatentDirichletAllocation\n",
        "import pandas as pd\n",
        "import numpy as np\n",
        "import matplotlib.pyplot as plt\n",
        "from gensim.models.coherencemodel import CoherenceModel\n",
        "from gensim.corpora import Dictionary\n",
        "\n"
      ],
      "metadata": {
        "id": "b7q25tyn3cKF"
      },
      "execution_count": 48,
      "outputs": []
    },
    {
      "cell_type": "code",
      "source": [
        "text_corpus = [\n",
        "    \"This painting is wonderful!!\",\n",
        "    \"The bag I have ordered is not as shown in the image.\",\n",
        "    \"The shoes quality is amazing!!\",\n",
        "    \"The taste of the food is unbelievable.\",\n",
        "    \"The book is fantastic, it addresses all the topics that are important.\"\n",
        "]\n"
      ],
      "metadata": {
        "id": "XzpCUxfc3bMy"
      },
      "execution_count": 49,
      "outputs": []
    },
    {
      "cell_type": "code",
      "source": [
        "vectorizer = CountVectorizer()\n",
        "data_vectorized = vectorizer.fit_transform(text_corpus)\n",
        "\n",
        "# Verify the transformation\n",
        "#print(data_vectorized.shape)\n",
        "#print(vectorizer.get_feature_names_out())\n"
      ],
      "metadata": {
        "id": "8ndL2Brm3aNq"
      },
      "execution_count": 50,
      "outputs": []
    },
    {
      "cell_type": "code",
      "source": [
        "# Define the number of topics\n",
        "n_topics = 3\n",
        "\n",
        "# Create and fit the LDA model\n",
        "lda_model = LatentDirichletAllocation(n_components=n_topics, random_state=42)\n",
        "lda_output = lda_model.fit_transform(data_vectorized)\n",
        "\n",
        "# Verify the output shape and sample probabilities\n",
        "#print(lda_output.shape)\n",
        "#print(lda_output[:2])  # Print the first two rows to verify\n"
      ],
      "metadata": {
        "id": "Kp3YE1e33Yt5"
      },
      "execution_count": 51,
      "outputs": []
    },
    {
      "cell_type": "code",
      "source": [
        "# Prepare data for coherence model\n",
        "terms = vectorizer.get_feature_names_out()\n",
        "topics_terms = [[terms[i] for i in topic.argsort()[-10:]] for topic in lda_model.components_]\n",
        "\n",
        "# Create a dictionary\n",
        "text_tokens = [text.split() for text in text_corpus]\n",
        "dictionary = Dictionary(text_tokens)\n",
        "\n",
        "# Compute Coherence Score\n",
        "cm = CoherenceModel(topics=topics_terms, texts=text_tokens, dictionary=dictionary, coherence='c_v')\n",
        "coherence_score = cm.get_coherence()\n",
        "print(f\"Coherence Score: {coherence_score}\")\n"
      ],
      "metadata": {
        "colab": {
          "base_uri": "https://localhost:8080/"
        },
        "id": "z2tO9afdHwoV",
        "outputId": "69343928-5e6e-4ba3-cb20-43d6204c479d"
      },
      "execution_count": 52,
      "outputs": [
        {
          "output_type": "stream",
          "name": "stdout",
          "text": [
            "Coherence Score: 0.7175830639770724\n"
          ]
        }
      ]
    },
    {
      "cell_type": "code",
      "source": [
        "def display_topics(model, feature_names, no_top_words):\n",
        "    for topic_idx, topic in enumerate(model.components_):\n",
        "        print(f\"Topic {topic_idx}:\")\n",
        "        print(\" \".join([feature_names[i] for i in topic.argsort()[:-no_top_words - 1:-1]]))\n",
        "\n",
        "feature_names = vectorizer.get_feature_names_out()\n",
        "display_topics(lda_model, feature_names, 10)\n"
      ],
      "metadata": {
        "colab": {
          "base_uri": "https://localhost:8080/"
        },
        "id": "baJIyW0YJEwL",
        "outputId": "fb51db28-07b0-4729-a7b5-efcc9334e109"
      },
      "execution_count": 53,
      "outputs": [
        {
          "output_type": "stream",
          "name": "stdout",
          "text": [
            "Topic 0:\n",
            "is wonderful this painting amazing shoes quality the food taste\n",
            "Topic 1:\n",
            "the is ordered bag have image in not as shown\n",
            "Topic 2:\n",
            "the it important all are book fantastic addresses topics that\n"
          ]
        }
      ]
    },
    {
      "cell_type": "code",
      "source": [
        "def plot_top_words(model, feature_names, n_top_words, title):\n",
        "    fig, axes = plt.subplots(1, n_topics, figsize=(10, 5), sharex=True)\n",
        "    axes = axes.flatten()\n",
        "    for topic_idx, topic in enumerate(model.components_):\n",
        "        top_features_ind = topic.argsort()[:-n_top_words - 1:-1]\n",
        "        top_features = [feature_names[i] for i in top_features_ind]\n",
        "        weights = topic[top_features_ind]\n",
        "        ax = axes[topic_idx]\n",
        "        ax.barh(top_features, weights, height=0.7)\n",
        "        ax.set_title(f'Topic {topic_idx + 1}', fontdict={'fontsize': 10})\n",
        "        ax.invert_yaxis()\n",
        "        ax.tick_params(axis='both', which='major', labelsize=10)\n",
        "        for i in 'top right left'.split():\n",
        "            ax.spines[i].set_visible(False)\n",
        "        fig.suptitle(title, fontsize=12)\n",
        "    plt.show()\n",
        "\n",
        "plot_top_words(lda_model, feature_names, 10, 'Top words per topic')\n"
      ],
      "metadata": {
        "colab": {
          "base_uri": "https://localhost:8080/",
          "height": 515
        },
        "id": "YvSZrt7_JElh",
        "outputId": "153ce5e0-bfc1-4a84-b605-0f21c358337b"
      },
      "execution_count": 54,
      "outputs": [
        {
          "output_type": "display_data",
          "data": {
            "text/plain": [
              "<Figure size 1000x500 with 3 Axes>"
            ],
            "image/png": "[encoded data removed]"
          },
          "metadata": {}
        }
      ]
    },
    {
      "cell_type": "markdown",
      "source": [
        "## **Question 3 (Alternative) - (10 points)**\n",
        "\n",
        "If you are unable to do the topic modeling using lda2vec, do the alternate question.\n",
        "\n",
        "Provide atleast 3 visualization for the topics generated by the BERTopic or LDA model. Explain each of the visualization in detail."
      ],
      "metadata": {
        "id": "Wslk2SYHML8t"
      }
    },
    {
      "cell_type": "code",
      "source": [
        "# Write your code here\n",
        "# Then Explain the visualization\n",
        "\n",
        "#1. Distribution of Topics across Documents\n",
        "\"\"\"\n",
        "\n",
        "Type of Visualization: Stacked Bar Chart or Heatmap\n",
        "\n",
        "This topic distribution visualization describes how topics are distributed across individual documents. One axis represents one document, and the other axis shows the topics.\n",
        "Color intensity or height of bars in this graph is indicative of the percentage of a given topic that is contained within a document.\n",
        "\n",
        "Purpose: This visualization allows you to see the dominance of each topic in every document. Amongst other things, you will find out which document is dominating a particular topic\n",
        "and what document contains the maximum number of topics.\n",
        "Interpretation: A document with high intensity for a certain topic will indicate that the document is mainly about this topic,\n",
        "while a more dispersed pattern of its intensities may indicate that it is more mixed in its content. This could help in\n",
        "outlier detection: unique documents containing unexpected topic combinations.\n",
        "\n",
        "2. Coherence graph on topics.\n",
        "\n",
        "Type of Visualization: Network Graph\n",
        "\n",
        "Excerpt: In word words, a topic coherence graph represents topics as nodes such that edges between nodes denote some form of relationship or similarity of topics regarding the\n",
        "words with which they are most strongly associated. The strength of the connection can be represented by thickness of the edge.\n",
        "\n",
        "Purpose: This chart displays the relationships among topics by virtue of their vocabulary similarities. The stronger their relatedness,\n",
        "because of co-occurrence similar words, the closer two topics are.\n",
        "\n",
        "Interpretation: It would show that a dense network would mean many topics draw on common words or themes and, therefore, probably overlap. This will be useful in\n",
        "working out how separated or intersected different topics are and seeing the relationships within these topics.\n",
        "\n",
        "Word Cloud per Topic\n",
        "\n",
        "3. Visualization type: word cloud\n",
        "\n",
        "Explanation: Each topic is represented by the word cloud of the most frequent words it entails. The size of the word denotes a proxy for how important/frequent\n",
        "it is in that topic. Every topic can have a word cloud.\n",
        "\n",
        "Purpose: The chart intuitively presents the most representative words for every topic; based on which one can easily get an idea at first glance about what the topic is.\n",
        "\n",
        "Interpretation: Larger words have stronger associations with the topic topic, and smaller words may be less important. Comparing each topic's word cloud provides\n",
        "immediate insight into what each topic entails because this acts to produce more granularity in understanding the model's output. You can also compare word clouds to\n",
        "determine how topics differ in their focus.\n",
        "\n",
        "# Repeat for the other 2 visualizations as well."
      ],
      "metadata": {
        "id": "eKZHcPjpNEDx"
      },
      "execution_count": null,
      "outputs": []
    },
    {
      "cell_type": "markdown",
      "source": [
        "## Extra Question (5 Points)\n",
        "\n",
        "**Compare the results generated by the four topic modeling algorithms, which one is better? You should explain the reasons in details.**\n",
        "\n",
        "**This question will compensate for any points deducted in this exercise. Maximum marks for the exercise is 40 points.**"
      ],
      "metadata": {
        "id": "d89ODUx3jjJV"
      }
    },
    {
      "cell_type": "code",
      "source": [
        "\"\"\"\n",
        "\n",
        "Therefore, among other four topic modeling algorithms, namely LDA, LSA, BERTopic, and NMF, BERTopic is relatively the best for many reasons.\n",
        "\n",
        "Coherence and Quality of Topic:\n",
        "Topics generated with BERTopic make more sense and are sometimes easier to interpret than others. This may be evidenced by higher coherence scores,\n",
        "with words in their topics of a closer relation than in other methods. In other words, the topics put together in BERTopic will no doubt make much\n",
        "more sense and be highly relevant.\n",
        "\n",
        "Modern Word Embeddings Usage:\n",
        "Therefore, another of the main strengths with BERTopic is that it uses advanced word embedding generated by models like BERT.\n",
        "These embeddings capture the meaning and relationship between words so much better than the traditional methods like LDA and LSA. As a result,\n",
        "this will allow BERTopic to find more complex and subtle topics, something that works especially well on larger datasets.\n",
        "\n",
        "Hierarchical Topic Structure:\n",
        "Another advantage of BERTopic is that it hierarchically organizes topics. It enables users to view how various topics are related to each other,\n",
        "hence helping them understand broad themes and subtopics. On the contrary, LDA and NMF give flat structures, which are generally harder to\n",
        "understand when it comes to relations between different topics.\n",
        "\n",
        "Flexibility and Adaptability:\n",
        "Another reason that makes BERTopic even more flexible is its ability to handle a wide range of dataset types,\n",
        "especially those that deal with overlapping topics. In a real-world scenario, LDA and NMF may not capture any meaningful topics since\n",
        "real-world topics are not always well-separated or defined.\n",
        "\n",
        "Conclusion:\n",
        " To wrap it up, BERTopic is the most viable choice when it comes to topic modeling, since it creates very high-quality,\n",
        " coherent topics because of using advanced word embeddings; it shows clarity in hierarchical structure and can be able to\n",
        " adapt in different datasets. These characteristics make this technique effective, especially in terms of\n",
        " valuable insights from textual data, compared to those of LDA, LSA, and NMF.\n",
        "\n",
        " \"\"\"\n"
      ],
      "metadata": {
        "id": "OK34nZtojhmm"
      },
      "execution_count": null,
      "outputs": []
    },
    {
      "cell_type": "markdown",
      "source": [
        "# Mandatory Question"
      ],
      "metadata": {
        "id": "VEs-OoDEhTW4"
      }
    },
    {
      "cell_type": "markdown",
      "source": [
        "**Important: Reflective Feedback on this exercise**\n",
        "\n",
        "Please provide your thoughts and feedback on the exercises you completed in this assignment.\n",
        "\n",
        "Consider the following points in your response:\n",
        "\n",
        "**Learning Experience:** Describe your overall learning experience in working with text data and extracting features using various topic modeling algorithms. Did you understand these algorithms and did the implementations helped in grasping the nuances of feature extraction from text data.\n",
        "\n",
        "**Challenges Encountered:** Were there specific difficulties in completing this exercise?\n",
        "\n",
        "Relevance to Your Field of Study: How does this exercise relate to the field of NLP?\n",
        "\n",
        "**(Your submission will not be graded if this question is left unanswered)**\n",
        "\n"
      ],
      "metadata": {
        "id": "IUKC7suYhVl0"
      }
    },
    {
      "cell_type": "code",
      "source": [
        "# Your answer here (no code for this question, write down your answer as detail as possible for the above questions):\n",
        "\n",
        "'''\n",
        "Please write you answer here:\n",
        "\n",
        "\n",
        "\n",
        "\n",
        "\n",
        "'''"
      ],
      "metadata": {
        "id": "CAq0DZWAhU9m"
      },
      "execution_count": null,
      "outputs": []
    }
  ],
  "metadata": {
    "kernelspec": {
      "display_name": "Python 3 (ipykernel)",
      "language": "python",
      "name": "python3"
    },
    "language_info": {
      "codemirror_mode": {
        "name": "ipython",
        "version": 3
      },
      "file_extension": ".py",
      "mimetype": "text/x-python",
      "name": "python",
      "nbconvert_exporter": "python",
      "pygments_lexer": "ipython3",
      "version": "3.9.12"
    },
    "colab": {
      "provenance": [],
      "include_colab_link": true
    }
  },
  "nbformat": 4,
  "nbformat_minor": 0
}